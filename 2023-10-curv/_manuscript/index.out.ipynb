{
 "cells": [
  {
   "cell_type": "markdown",
   "metadata": {},
   "source": [
    "# CURV - connecting, uplifting, and recognizing voices\n",
    "\n",
    "Johanna Hardin (Pomona College)  \n",
    "September 28, 2023\n",
    "\n",
    "### Quick: think of a statistician. Who came to mind for you?\n",
    "\n",
    "# Representation Matters\n",
    "\n",
    "When I think about the statisticians I encountered during my education, the four individuals in <a href=\"#fig-coasters\" class=\"quarto-xref\">Figure 1</a>, seen on my personal coaster set, come to mind."
   ],
   "id": "97a81015-e045-4ed2-b29b-f7297412b5f8"
  },
  {
   "cell_type": "code",
   "execution_count": null,
   "metadata": {
    "layout-align": "center",
    "message.hidden": true,
    "warning.hidden": true
   },
   "outputs": [
    {
     "output_type": "display_data",
     "metadata": {},
     "data": {}
    }
   ],
   "source": [
    "knitr::opts_chunk$set(echo = FALSE, message = FALSE, warning = FALSE)\n",
    "\n",
    "knitr::include_graphics(\"coasters.jpg\")"
   ],
   "id": "cell-fig-coasters"
  },
  {
   "cell_type": "markdown",
   "metadata": {},
   "source": [
    "My coasters aside, a Google search on “famous statisticians” produces a few women on the list, but the demographics of the individuals presented are remarkably homogeneous, see <a href=\"#fig-google\" class=\"quarto-xref\">Figure 2</a>."
   ],
   "id": "1a3ad234-6d8f-4ccd-9b20-ac717e932aa9"
  },
  {
   "cell_type": "code",
   "execution_count": null,
   "metadata": {
    "layout-align": "center",
    "message.hidden": true,
    "warning.hidden": true
   },
   "outputs": [
    {
     "output_type": "display_data",
     "metadata": {},
     "data": {}
    }
   ],
   "source": [
    "knitr::include_graphics(\"google.png\")"
   ],
   "id": "cell-fig-google"
  },
  {
   "cell_type": "markdown",
   "metadata": {},
   "source": [
    "Who else made contributions to statistics?\n",
    "\n",
    "## David Blackwell\n",
    "\n",
    "Arguably, the most famous/influential/brilliant African American statistician is David Blackwell. Statisticians may know Blackwell from the Rao-Blackwell theorem which says that after conditioning on a sufficient statistic, the new estimator will have smaller (or equal to) mean squared error than the original estimator. Indeed, the Rao-Blackwell theorem is seen in most undergraduate Statistical Theory textbooks.\n",
    "\n",
    "Blackwell was the 1st African American elected to the National Academies of Science and the 1st African American tenured at UC Berkeley. He was the 7th African American to receive a PhD in mathematics. In 2012, President Obama posthumously awarded Blackwell the National Medal of Science.\n",
    "\n",
    "The majority of Blackwell’s career in statistics was spent at UC Berkeley (1954-1988). However, his start at UC Berkeley was postponed due to racism in the Department of Mathematics. The story is that the chair of the department (Erich Lehmann) wanted to hire Blackwell in 1942. However, the wife of another faculty member didn’t want any Black members of the department because then she wouldn’t feel comfortable hosting department events in her home. So the wife told her husband to tell Lehmann not to hire Blackwell. Which is what happened. You can hear Blackwell describe the situation in his own words at https://www.youtube.com/watch?v=Mqpf9tw44Xw. It is a powerful three minute video, I recommend you show it to your students.\n",
    "\n",
    "I recount the Blackwell story to indicate that racism is critical and recent in the history of statistics. Indeed, see Bodmer et al. (2021) for a detailed description of the eugenics movement associated with R.A. Fisher and colleagues. But even more salient is notion that in the standard undergraduate curriculum, there are very few people of color who our students see as role models.\n",
    "\n",
    "## Why does representation matter?\n",
    "\n",
    "When individuals don’t feel a part of the community, their identity gets mixed up with feelings about their ability. <a href=\"#fig-xkcd\" class=\"quarto-xref\">Figure 3</a> shows an xkcd comic encapsulates what can happen when individuals of the non-dominant demographic group engage with content of the course / curriculum / minor / major."
   ],
   "id": "5a968fc1-ceef-4f12-821f-fc96452b1d05"
  },
  {
   "cell_type": "code",
   "execution_count": null,
   "metadata": {
    "layout-align": "center",
    "message.hidden": true,
    "warning.hidden": true
   },
   "outputs": [
    {
     "output_type": "display_data",
     "metadata": {},
     "data": {}
    }
   ],
   "source": [
    "knitr::include_graphics(\"xkcd.png\")"
   ],
   "id": "cell-fig-xkcd"
  },
  {
   "cell_type": "markdown",
   "metadata": {},
   "source": [
    "There have been numerous studies investigating the role of representation and success across STEM fields. Nguyen and Riegle-Crumb (2021) find that counter-stereotypical beliefs are associated with intentions to pursue STEM fields for Black and Latinx students. They say:\n",
    "\n",
    "> Research indicates that many young people may be deterred from pursuing STEM fields due to prominent stereotypes regarding who best fits and belongs in such fields.\n",
    "\n",
    "Some of the reasons that representation impacts participation in engaging in STEM include stereotypes about innate abilities and stereotypes about images in the field. The first set of stereotypes (innate abilities) describe beliefs that particular groups are not **capable** of success in STEM fields. The second set of stereotypes (images) describe beliefs that particular groups do not **belong** to STEM fields. Regardless, it seems clear that if students can see themselves in the scholars of the field, they will be more likely to continue pursuing that discipline.\n",
    "\n",
    "Buckmire et al. (2023) write on what makes a “mathematician.” They recognize that narrowly defining who should / can do mathematics is a process by which people are made to feel excluded from mathematics. In their article they present a variety of definitions for “mathematician”, and each of the nine co-authors describes how they do or do not meet each of the definitions. The different representations show students a diversity of role models. In what follows, we present a database of role models with the hopes of introducing students to statisticians, data scientists, and mathematicians to whom they can connect.\n",
    "\n",
    "# CURV - connecting, uplifting, and recognizing voices\n",
    "\n",
    "To combat the homogeneity of representation in standard statistics content, in most of my courses, I’ve introduced a weekly activity of “Statistician of the Day.” The scholars who I present are those traditionally underrepresented in statistics and data science. Many of them are people of color, but they also represent individuals who are pushing boundaries to make statistics and data science more accessible and inclusive, often because they themselves have navigated a world which was not accessible or not inclusive.\n",
    "\n",
    "The database is called **CURV - connecting, uplifting, and recognizing voices**. You can see the source code and/or contribute to the database by exploring the CURV GitHub repo.\n",
    "\n",
    "## Who is in CURV?\n",
    "\n",
    "The point of the CURV database is to introduce students to scholars to whom students can relate. In that spirit, I have included:\n",
    "\n",
    "-   scholars who represent the diversity of students.\n",
    "-   scholars working to make statistics more accessible.\n",
    "-   scholars using statistics to do good in the world.\n",
    "\n",
    "### Liz Hare\n",
    "\n",
    "Liz Hare is not a statistician; she is a geneticist, working primarily in dog / animal genetics. However, as someone who is very active in the Minorities in R (MiR) Community, she works regularly with statisticians.\n",
    "\n",
    "Dr. Hare is visually impaired and has focused her work on communicating the value and ease with which statisticians and data scientists can add alt text to their reports. Alt text is the words describing an image that a screen reader reads out loud as part of reading through a document. In <a href=\"#fig-ibo\" class=\"quarto-xref\">Figure 4</a> you can see that the html code encapsulates the alt text describing a TidyTuesday figure on African language sentiment."
   ],
   "id": "1b454c94-1da9-4cef-ab6e-dc02cb2eedf1"
  },
  {
   "cell_type": "code",
   "execution_count": null,
   "metadata": {
    "layout-align": "center",
    "message.hidden": true,
    "warning.hidden": true
   },
   "outputs": [
    {
     "output_type": "display_data",
     "metadata": {},
     "data": {}
    }
   ],
   "source": [
    "knitr::include_graphics(\"ibo_screenshot.png\")"
   ],
   "id": "cell-fig-ibo"
  },
  {
   "cell_type": "markdown",
   "metadata": {},
   "source": [
    "When using alt text, Dr. Hare asks us to consider and report:\n",
    "\n",
    "1.  What kind of graph or chart is it?\n",
    "2.  What variables are on the axes?\n",
    "3.  What are the ranges of the variables?\n",
    "4.  What does the appearance tell you about the relationships between the variables?\n",
    "\n",
    "After presenting Dr. Hare and her work to my students, I am able to teach them how to include alt text in their own work, a process which is extremely straightforward if students are using R markdown or Quarto documents.\n",
    "\n",
    "In R, including alt text is done by providing information for the relevant R chunk. After introducing students to Dr. Hare’s work, it takes very little overhead to communicate to them the ways that a graphic can be made more accessible by adding alt text to each figure. <a href=\"#fig-r-code\" class=\"quarto-xref\">Figure 5</a> specifies the R code (in a Quarto document) for adding different figure descriptions. Note the difference between the (1) alt text, (2) document figure caption, and (3) ggplot figure caption. <a href=\"#fig-captions\" class=\"quarto-xref\">Figure 6</a> specifies the connection between the figure descriptions and the image itself."
   ],
   "id": "d02afca3-2d09-400f-87a6-84b50ec7bede"
  },
  {
   "cell_type": "code",
   "execution_count": null,
   "metadata": {
    "layout-align": "center",
    "message.hidden": true,
    "warning.hidden": true
   },
   "outputs": [
    {
     "output_type": "display_data",
     "metadata": {},
     "data": {}
    }
   ],
   "source": [
    "knitr::include_graphics(\"r_code.png\")"
   ],
   "id": "cell-fig-r-code"
  },
  {
   "cell_type": "code",
   "execution_count": null,
   "metadata": {
    "layout-align": "center",
    "message.hidden": true,
    "warning.hidden": true
   },
   "outputs": [
    {
     "output_type": "display_data",
     "metadata": {},
     "data": {}
    }
   ],
   "source": [
    "knitr::include_graphics(\"captions.png\")"
   ],
   "id": "cell-fig-captions"
  },
  {
   "cell_type": "markdown",
   "metadata": {},
   "source": [
    "By communicating ways in which data analyses can be made more accessible to all users, we can set our students up to recognize that statistics and data science is for everyone. Students may connect to the scholars because of their own different abilities. Or they may want to work on making software more accessible. Regardless, a conversation about using alt text is always good in that the students will become better purveyors of data science.\n",
    "\n",
    "### Rafael Irizarry\n",
    "\n",
    "Rafael Irizarry is a well known biostatistician; he completed his PhD at Berkeley, worked for many years at Johns Hopkins University, and is currently running a lab at Harvard as Professor of Biostatistics and at the Dana-Farber Cancer Institute as Professor of Biostatistics and Computational Biology. He has dozens of online courses through the edX platform and over a hundred publications via Google scholar.\n",
    "\n",
    "Relevant to the CURV database however is the work that Rafael Irizarry has done in Puerto Rico. Having graduated from the University of Puerto Rico, Professor Irizarry had a vested interest in the community that was ravaged in 2017 when Hurricane Maria, a category 5 hurricane, devastated the island. With collaborators, Professor Irizarry performed a representative stratified sample to measure neighborhoods based on how easily accessible they were in the aftermath of the hurricane.\n",
    "\n",
    "The original news reports, months after the hurricane, were that the official death report from Hurricane Maria was 64 people. Professor Irizarry and colleagues estimated that the number of excess deaths was 4645, with a 95% confidence interval of 793 to 8498.\n",
    "\n",
    "Their work provides a myriad of topics to unpack in a statistics classroom. Some of the discussions I have had with my students include: who is doing the work to understand climate change at a global level; how is stratified sampling different from simple random samples and why can’t we always take simple random samples; and why is the CI so wide? <a href=\"#fig-maria\" class=\"quarto-xref\">Figure 7</a> provides the reference for the mortality study; <a href=\"#fig-maria-abstract\" class=\"quarto-xref\">Figure 8</a> provides the results from the abstract of the paper. I like to show students the literature so that they connect the actual publication to the research like Professor Irizarry’s which can have a big impact on public policy and human lives."
   ],
   "id": "d4c89f8b-0917-420f-b92d-5f6042d18e76"
  },
  {
   "cell_type": "code",
   "execution_count": null,
   "metadata": {
    "layout-align": "center",
    "message.hidden": true,
    "warning.hidden": true
   },
   "outputs": [
    {
     "output_type": "display_data",
     "metadata": {},
     "data": {}
    }
   ],
   "source": [
    "knitr::include_graphics(\"maria.png\")"
   ],
   "id": "cell-fig-maria"
  },
  {
   "cell_type": "code",
   "execution_count": null,
   "metadata": {
    "layout-align": "center",
    "message.hidden": true,
    "warning.hidden": true
   },
   "outputs": [
    {
     "output_type": "display_data",
     "metadata": {},
     "data": {}
    }
   ],
   "source": [
    "knitr::include_graphics(\"maria_abstract.png\")"
   ],
   "id": "cell-fig-maria-abstract"
  },
  {
   "cell_type": "markdown",
   "metadata": {},
   "source": [
    "# CURV in the classroom\n",
    "\n",
    "While you surely have creative ideas on how to use CURV in the classroom, I have mostly used it as a “statistician of the day” project. Once a week (or sometimes at every class period), I briefly introduce a scholar and present different ways they have contributed to the field. My students have been extremely positive about the engagement, reporting the following about being introduced to the scholars in the CURV database. Some of the sentiments they have reported include that the presentations of the scholars:\n",
    "\n",
    "-   is inspiring.\n",
    "-   is a great way to better understand the career paths of data scientists.\n",
    "-   is a venue for having important conversations with peers.\n",
    "-   highlighted diversity in the field of statistics.\n",
    "-   made the classroom environment feel more inclusive.\n",
    "\n",
    "# Contributing to CURV\n",
    "\n",
    "In addition to presenting scholars to your students, you can engage the students in the conversation by having them **find** scholars to highlight. If you or your students have a name or an idea of someone aligned with the CURV goals, you can submit an issue on the CURV GitHub repo. If you would like to create an entire entry about a particular individual, please consider creating a pull request. (Creating a pull request allows students to practice data science skills while also engaging in issues of justice, equity, diversity, and inclusivity.)\n",
    "\n",
    "# CURV aligned\n",
    "\n",
    "I developed the CURV database because I didn’t know of a different resource that I could use for my “Statistician of the Day” classroom exercise. I wanted the information provided to be relevant to my students, connecting either through identity or through class content. That said, I’ve borrowed heavily from existing resources, and I appreciate the myriad efforts which engage students in many different ways. On the CURV website I list additional fantastic resources highlighting statisticians, data scientists, and mathematicians who are traditionally underrepresented. I encourage you and your students to check them out!\n",
    "\n",
    "# Further Reading\n",
    "\n",
    "-   CURV website at https://hardin47.github.io/CURV/; CURV GitHub repo at https://github.com/hardin47/CURV/\n",
    "\n",
    "-   Nguyen, Ursula, and Catherine Riegle-Crumb. “Who Is a Scientist? The Relationship Between Counter-Stereotypical Beliefs about Scientists and the STEM Major Intentions of Black and Latinx Male and Female Students.” *International Journal of STEM Education* 8, 2021.\n",
    "\n",
    "-   Buckmire, R., Diaz Eaton C., Hibdon, J., Kinnaird,K., Lewis, D., Libertini, J., Ortega, O., Roca, R., and Vindas Meléndez, A. “On Definitions of ‘Mathematician’,” *Journal of Humanistic Mathematics*, 13, 8-38, 2023. https://scholarship.claremont.edu/jhm/vol13/iss2/4\n",
    "\n",
    "-   Bodmer, W., Bailey, R.A., Charlesworth, B. et al. The outstanding scientist, R.A. Fisher: his views on eugenics and race. *Heredity* 126, 565–576, 2021."
   ],
   "id": "625c79f6-6629-41c2-94cd-3afab0f09c44"
  }
 ],
 "nbformat": 4,
 "nbformat_minor": 5,
 "metadata": {}
}
